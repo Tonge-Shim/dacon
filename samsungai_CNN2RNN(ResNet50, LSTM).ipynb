{
 "cells": [
  {
   "cell_type": "markdown",
   "metadata": {
    "id": "oYn9ZSXuSf7-"
   },
   "source": [
    "baseline.ipynb <br>\n",
    ".. ├ models <br>\n",
    ".. └ data <br>\n",
    ".... ├ train_sdf <br>\n",
    ".... ├ dev_sdf <br>\n",
    ".... ├ test_sdf <br>\n",
    ".... ├ train_imgs <br>\n",
    ".... ├ test_imgs <br>\n",
    ".... ├ sample_train.csv <br>\n",
    ".... ├ sample_test.csv <br>\n",
    ".... └ sample_submission.csv <br>"
   ]
  },
  {
   "cell_type": "markdown",
   "metadata": {
    "id": "9h4UQ5J4Sf8E"
   },
   "source": [
    "## 사용 패키지"
   ]
  },
  {
   "cell_type": "code",
   "execution_count": 1,
   "metadata": {
    "colab": {
     "base_uri": "https://localhost:8080/"
    },
    "executionInfo": {
     "elapsed": 7948,
     "status": "ok",
     "timestamp": 1629336037246,
     "user": {
      "displayName": "심채은",
      "photoUrl": "",
      "userId": "05772196558834520993"
     },
     "user_tz": -540
    },
    "id": "t-Ge5V5_SnlT",
    "outputId": "52015777-6131-40d8-f8f1-149a09edbf09"
   },
   "outputs": [],
   "source": [
    "# !pip install rdkit-pypi"
   ]
  },
  {
   "cell_type": "code",
   "execution_count": 2,
   "metadata": {
    "id": "6opPu4z_p_wb"
   },
   "outputs": [],
   "source": [
    "import numpy as np\n",
    "import pandas as pd\n",
    "import matplotlib.pyplot as plt\n",
    "import cv2\n",
    "import rdkit\n",
    "from rdkit import Chem\n",
    "from rdkit.Chem import Draw\n",
    "from rdkit import RDLogger\n",
    "RDLogger.DisableLog('rdApp.*')\n",
    "from tqdm import tqdm\n",
    "import os\n",
    "\n",
    "import torch\n",
    "from torch import nn\n",
    "from torchvision import models\n",
    "from torch.utils.data import Dataset, DataLoader"
   ]
  },
  {
   "cell_type": "code",
   "execution_count": 3,
   "metadata": {
    "colab": {
     "base_uri": "https://localhost:8080/",
     "height": 35
    },
    "executionInfo": {
     "elapsed": 430,
     "status": "ok",
     "timestamp": 1629336051693,
     "user": {
      "displayName": "심채은",
      "photoUrl": "",
      "userId": "05772196558834520993"
     },
     "user_tz": -540
    },
    "id": "vqxIb5SBWDwT",
    "outputId": "20d6f7d7-0664-4b99-87f8-1633f4898870"
   },
   "outputs": [
    {
     "data": {
      "text/plain": [
       "'/home/chaeeun/Desktop/samsung_ai'"
      ]
     },
     "execution_count": 3,
     "metadata": {},
     "output_type": "execute_result"
    }
   ],
   "source": [
    "os.getcwd()"
   ]
  },
  {
   "cell_type": "code",
   "execution_count": 4,
   "metadata": {
    "colab": {
     "base_uri": "https://localhost:8080/"
    },
    "executionInfo": {
     "elapsed": 548,
     "status": "ok",
     "timestamp": 1629258807717,
     "user": {
      "displayName": "­심채은(엘텍공과대학 휴먼기계바이오공학부)",
      "photoUrl": "",
      "userId": "04011176107829242101"
     },
     "user_tz": -540
    },
    "id": "jgxJeVftSf8G",
    "outputId": "033f6e8b-c50b-4c7e-a702-48cf63d4dc05"
   },
   "outputs": [],
   "source": [
    "# print('numpy verison :', np.__version__)\n",
    "# print('pandas version :', pd.__version__)\n",
    "# print('opencv version :', cv2.__version__)\n",
    "# print('rdkit version :', rdkit.__version__)\n",
    "# print('torch version :', torch.__version__)"
   ]
  },
  {
   "cell_type": "markdown",
   "metadata": {
    "id": "g-0ju9IuSf8I"
   },
   "source": [
    "## 데이터 로드"
   ]
  },
  {
   "cell_type": "code",
   "execution_count": 5,
   "metadata": {
    "colab": {
     "base_uri": "https://localhost:8080/"
    },
    "executionInfo": {
     "elapsed": 52180,
     "status": "ok",
     "timestamp": 1629336152936,
     "user": {
      "displayName": "심채은",
      "photoUrl": "",
      "userId": "05772196558834520993"
     },
     "user_tz": -540
    },
    "id": "A7Arh5feURk3",
    "outputId": "25779022-a482-4195-ffa6-b39e9430a785"
   },
   "outputs": [],
   "source": [
    "# from google.colab import drive\n",
    "# drive.mount('/content/drive')"
   ]
  },
  {
   "cell_type": "code",
   "execution_count": 6,
   "metadata": {
    "id": "7WZfRhyfp_wd"
   },
   "outputs": [],
   "source": [
    "train = pd.read_csv('./train.csv')\n",
    "dev = pd.read_csv('./dev.csv')"
   ]
  },
  {
   "cell_type": "code",
   "execution_count": 7,
   "metadata": {
    "colab": {
     "base_uri": "https://localhost:8080/",
     "height": 206
    },
    "executionInfo": {
     "elapsed": 10,
     "status": "ok",
     "timestamp": 1629258844438,
     "user": {
      "displayName": "­심채은(엘텍공과대학 휴먼기계바이오공학부)",
      "photoUrl": "",
      "userId": "04011176107829242101"
     },
     "user_tz": -540
    },
    "id": "X5msQrpxp_we",
    "outputId": "1f549fd4-a1a3-4975-94a7-18366af47817"
   },
   "outputs": [
    {
     "data": {
      "text/html": [
       "<div>\n",
       "<style scoped>\n",
       "    .dataframe tbody tr th:only-of-type {\n",
       "        vertical-align: middle;\n",
       "    }\n",
       "\n",
       "    .dataframe tbody tr th {\n",
       "        vertical-align: top;\n",
       "    }\n",
       "\n",
       "    .dataframe thead th {\n",
       "        text-align: right;\n",
       "    }\n",
       "</style>\n",
       "<table border=\"1\" class=\"dataframe\">\n",
       "  <thead>\n",
       "    <tr style=\"text-align: right;\">\n",
       "      <th></th>\n",
       "      <th>uid</th>\n",
       "      <th>SMILES</th>\n",
       "      <th>S1_energy(eV)</th>\n",
       "      <th>T1_energy(eV)</th>\n",
       "    </tr>\n",
       "  </thead>\n",
       "  <tbody>\n",
       "    <tr>\n",
       "      <th>0</th>\n",
       "      <td>train_0</td>\n",
       "      <td>CCC1CCCCN1C(=O)C(C)OC(=O)c1c(C)oc(-n2cccc2)c1C#N</td>\n",
       "      <td>4.6747</td>\n",
       "      <td>3.3809</td>\n",
       "    </tr>\n",
       "    <tr>\n",
       "      <th>1</th>\n",
       "      <td>train_1</td>\n",
       "      <td>COc1ccc(Oc2ccc(N3C(=S)NC(c4ccccn4)C3c3cc(C)n(-...</td>\n",
       "      <td>3.6617</td>\n",
       "      <td>3.4585</td>\n",
       "    </tr>\n",
       "    <tr>\n",
       "      <th>2</th>\n",
       "      <td>train_2</td>\n",
       "      <td>CC(=O)Nc1ccc(C(=O)[C@H](C)Sc2nnc(C3CCCCC3)o2)cc1</td>\n",
       "      <td>3.6420</td>\n",
       "      <td>3.1787</td>\n",
       "    </tr>\n",
       "    <tr>\n",
       "      <th>3</th>\n",
       "      <td>train_3</td>\n",
       "      <td>OC(CNC1CC1)CN1CCc2sccc2C1</td>\n",
       "      <td>4.8901</td>\n",
       "      <td>3.7847</td>\n",
       "    </tr>\n",
       "    <tr>\n",
       "      <th>4</th>\n",
       "      <td>train_4</td>\n",
       "      <td>CCNC(CCCC(F)(F)F)C1(OCC)CCOCC1</td>\n",
       "      <td>6.4967</td>\n",
       "      <td>6.2724</td>\n",
       "    </tr>\n",
       "  </tbody>\n",
       "</table>\n",
       "</div>"
      ],
      "text/plain": [
       "       uid                                             SMILES  S1_energy(eV)  \\\n",
       "0  train_0   CCC1CCCCN1C(=O)C(C)OC(=O)c1c(C)oc(-n2cccc2)c1C#N         4.6747   \n",
       "1  train_1  COc1ccc(Oc2ccc(N3C(=S)NC(c4ccccn4)C3c3cc(C)n(-...         3.6617   \n",
       "2  train_2   CC(=O)Nc1ccc(C(=O)[C@H](C)Sc2nnc(C3CCCCC3)o2)cc1         3.6420   \n",
       "3  train_3                          OC(CNC1CC1)CN1CCc2sccc2C1         4.8901   \n",
       "4  train_4                     CCNC(CCCC(F)(F)F)C1(OCC)CCOCC1         6.4967   \n",
       "\n",
       "   T1_energy(eV)  \n",
       "0         3.3809  \n",
       "1         3.4585  \n",
       "2         3.1787  \n",
       "3         3.7847  \n",
       "4         6.2724  "
      ]
     },
     "execution_count": 7,
     "metadata": {},
     "output_type": "execute_result"
    }
   ],
   "source": [
    "train.head()"
   ]
  },
  {
   "cell_type": "code",
   "execution_count": 8,
   "metadata": {
    "colab": {
     "base_uri": "https://localhost:8080/",
     "height": 206
    },
    "executionInfo": {
     "elapsed": 404,
     "status": "ok",
     "timestamp": 1629258848209,
     "user": {
      "displayName": "­심채은(엘텍공과대학 휴먼기계바이오공학부)",
      "photoUrl": "",
      "userId": "04011176107829242101"
     },
     "user_tz": -540
    },
    "id": "V7LQtN3LSf8N",
    "outputId": "49695191-b602-4778-e95f-7c48cbd91f85"
   },
   "outputs": [
    {
     "data": {
      "text/html": [
       "<div>\n",
       "<style scoped>\n",
       "    .dataframe tbody tr th:only-of-type {\n",
       "        vertical-align: middle;\n",
       "    }\n",
       "\n",
       "    .dataframe tbody tr th {\n",
       "        vertical-align: top;\n",
       "    }\n",
       "\n",
       "    .dataframe thead th {\n",
       "        text-align: right;\n",
       "    }\n",
       "</style>\n",
       "<table border=\"1\" class=\"dataframe\">\n",
       "  <thead>\n",
       "    <tr style=\"text-align: right;\">\n",
       "      <th></th>\n",
       "      <th>uid</th>\n",
       "      <th>SMILES</th>\n",
       "      <th>S1_energy(eV)</th>\n",
       "      <th>T1_energy(eV)</th>\n",
       "    </tr>\n",
       "  </thead>\n",
       "  <tbody>\n",
       "    <tr>\n",
       "      <th>0</th>\n",
       "      <td>dev_0</td>\n",
       "      <td>O=C1c2ccccc2C2(c3ccccc31)c1ccccc1N(c1ccc(-c3nc...</td>\n",
       "      <td>2.7609</td>\n",
       "      <td>2.7540</td>\n",
       "    </tr>\n",
       "    <tr>\n",
       "      <th>1</th>\n",
       "      <td>dev_1</td>\n",
       "      <td>Cc1cccc2c3ccccc3n(-c3ccc(-c4c(-c5ccccc5)c(C#N)...</td>\n",
       "      <td>3.0495</td>\n",
       "      <td>3.0163</td>\n",
       "    </tr>\n",
       "    <tr>\n",
       "      <th>2</th>\n",
       "      <td>dev_2</td>\n",
       "      <td>CC1(C)c2ccccc2-c2ccc(-c3c(F)c(F)c(-c4ccc5c(c4)...</td>\n",
       "      <td>2.8314</td>\n",
       "      <td>2.1412</td>\n",
       "    </tr>\n",
       "    <tr>\n",
       "      <th>3</th>\n",
       "      <td>dev_3</td>\n",
       "      <td>CC(C)(C)c1ccc2c(c1)B1c3cc(C(C)(C)C)ccc3Oc3cc(-...</td>\n",
       "      <td>3.1813</td>\n",
       "      <td>2.9424</td>\n",
       "    </tr>\n",
       "    <tr>\n",
       "      <th>4</th>\n",
       "      <td>dev_4</td>\n",
       "      <td>O=C1c2cc(-c3ccc4c(c3)c3ccccc3n4-c3ccccc3)ccc2S...</td>\n",
       "      <td>2.9559</td>\n",
       "      <td>2.7362</td>\n",
       "    </tr>\n",
       "  </tbody>\n",
       "</table>\n",
       "</div>"
      ],
      "text/plain": [
       "     uid                                             SMILES  S1_energy(eV)  \\\n",
       "0  dev_0  O=C1c2ccccc2C2(c3ccccc31)c1ccccc1N(c1ccc(-c3nc...         2.7609   \n",
       "1  dev_1  Cc1cccc2c3ccccc3n(-c3ccc(-c4c(-c5ccccc5)c(C#N)...         3.0495   \n",
       "2  dev_2  CC1(C)c2ccccc2-c2ccc(-c3c(F)c(F)c(-c4ccc5c(c4)...         2.8314   \n",
       "3  dev_3  CC(C)(C)c1ccc2c(c1)B1c3cc(C(C)(C)C)ccc3Oc3cc(-...         3.1813   \n",
       "4  dev_4  O=C1c2cc(-c3ccc4c(c3)c3ccccc3n4-c3ccccc3)ccc2S...         2.9559   \n",
       "\n",
       "   T1_energy(eV)  \n",
       "0         2.7540  \n",
       "1         3.0163  \n",
       "2         2.1412  \n",
       "3         2.9424  \n",
       "4         2.7362  "
      ]
     },
     "execution_count": 8,
     "metadata": {},
     "output_type": "execute_result"
    }
   ],
   "source": [
    "dev.head()"
   ]
  },
  {
   "cell_type": "code",
   "execution_count": 9,
   "metadata": {
    "id": "SCE1rWTNSf8P"
   },
   "outputs": [],
   "source": [
    "train = pd.concat([train, dev])"
   ]
  },
  {
   "cell_type": "code",
   "execution_count": 10,
   "metadata": {},
   "outputs": [
    {
     "data": {
      "text/html": [
       "<div>\n",
       "<style scoped>\n",
       "    .dataframe tbody tr th:only-of-type {\n",
       "        vertical-align: middle;\n",
       "    }\n",
       "\n",
       "    .dataframe tbody tr th {\n",
       "        vertical-align: top;\n",
       "    }\n",
       "\n",
       "    .dataframe thead th {\n",
       "        text-align: right;\n",
       "    }\n",
       "</style>\n",
       "<table border=\"1\" class=\"dataframe\">\n",
       "  <thead>\n",
       "    <tr style=\"text-align: right;\">\n",
       "      <th></th>\n",
       "      <th>uid</th>\n",
       "      <th>SMILES</th>\n",
       "      <th>S1_energy(eV)</th>\n",
       "      <th>T1_energy(eV)</th>\n",
       "    </tr>\n",
       "  </thead>\n",
       "  <tbody>\n",
       "    <tr>\n",
       "      <th>0</th>\n",
       "      <td>train_0</td>\n",
       "      <td>CCC1CCCCN1C(=O)C(C)OC(=O)c1c(C)oc(-n2cccc2)c1C#N</td>\n",
       "      <td>4.6747</td>\n",
       "      <td>3.3809</td>\n",
       "    </tr>\n",
       "    <tr>\n",
       "      <th>1</th>\n",
       "      <td>train_1</td>\n",
       "      <td>COc1ccc(Oc2ccc(N3C(=S)NC(c4ccccn4)C3c3cc(C)n(-...</td>\n",
       "      <td>3.6617</td>\n",
       "      <td>3.4585</td>\n",
       "    </tr>\n",
       "    <tr>\n",
       "      <th>2</th>\n",
       "      <td>train_2</td>\n",
       "      <td>CC(=O)Nc1ccc(C(=O)[C@H](C)Sc2nnc(C3CCCCC3)o2)cc1</td>\n",
       "      <td>3.6420</td>\n",
       "      <td>3.1787</td>\n",
       "    </tr>\n",
       "    <tr>\n",
       "      <th>3</th>\n",
       "      <td>train_3</td>\n",
       "      <td>OC(CNC1CC1)CN1CCc2sccc2C1</td>\n",
       "      <td>4.8901</td>\n",
       "      <td>3.7847</td>\n",
       "    </tr>\n",
       "    <tr>\n",
       "      <th>4</th>\n",
       "      <td>train_4</td>\n",
       "      <td>CCNC(CCCC(F)(F)F)C1(OCC)CCOCC1</td>\n",
       "      <td>6.4967</td>\n",
       "      <td>6.2724</td>\n",
       "    </tr>\n",
       "    <tr>\n",
       "      <th>...</th>\n",
       "      <td>...</td>\n",
       "      <td>...</td>\n",
       "      <td>...</td>\n",
       "      <td>...</td>\n",
       "    </tr>\n",
       "    <tr>\n",
       "      <th>66</th>\n",
       "      <td>dev_66</td>\n",
       "      <td>N#Cc1cc(-c2ccc(N3c4ccccc4Oc4ccccc43)cc2)c(-c2c...</td>\n",
       "      <td>2.1939</td>\n",
       "      <td>2.1846</td>\n",
       "    </tr>\n",
       "    <tr>\n",
       "      <th>67</th>\n",
       "      <td>dev_67</td>\n",
       "      <td>CC1(C)c2ccccc2N(c2ccc(-c3nc4ccc(N5c6ccccc6C(C)...</td>\n",
       "      <td>2.3537</td>\n",
       "      <td>2.3371</td>\n",
       "    </tr>\n",
       "    <tr>\n",
       "      <th>68</th>\n",
       "      <td>dev_68</td>\n",
       "      <td>Cc1cc(-n2c3ccc(C(C)(C)C)cc3c3cc(C(C)(C)C)ccc32...</td>\n",
       "      <td>2.1364</td>\n",
       "      <td>2.1260</td>\n",
       "    </tr>\n",
       "    <tr>\n",
       "      <th>69</th>\n",
       "      <td>dev_69</td>\n",
       "      <td>Cc1cc(-n2c3ccccc3c3ccccc32)cc(C)c1B1c2ccccc2B(...</td>\n",
       "      <td>2.2650</td>\n",
       "      <td>2.2511</td>\n",
       "    </tr>\n",
       "    <tr>\n",
       "      <th>70</th>\n",
       "      <td>dev_70</td>\n",
       "      <td>CC(C)(C)c1ccc2c(c1)c1cc(C(C)(C)C)ccc1n2-c1c(Cl...</td>\n",
       "      <td>2.5477</td>\n",
       "      <td>2.4184</td>\n",
       "    </tr>\n",
       "  </tbody>\n",
       "</table>\n",
       "<p>30345 rows × 4 columns</p>\n",
       "</div>"
      ],
      "text/plain": [
       "        uid                                             SMILES  S1_energy(eV)  \\\n",
       "0   train_0   CCC1CCCCN1C(=O)C(C)OC(=O)c1c(C)oc(-n2cccc2)c1C#N         4.6747   \n",
       "1   train_1  COc1ccc(Oc2ccc(N3C(=S)NC(c4ccccn4)C3c3cc(C)n(-...         3.6617   \n",
       "2   train_2   CC(=O)Nc1ccc(C(=O)[C@H](C)Sc2nnc(C3CCCCC3)o2)cc1         3.6420   \n",
       "3   train_3                          OC(CNC1CC1)CN1CCc2sccc2C1         4.8901   \n",
       "4   train_4                     CCNC(CCCC(F)(F)F)C1(OCC)CCOCC1         6.4967   \n",
       "..      ...                                                ...            ...   \n",
       "66   dev_66  N#Cc1cc(-c2ccc(N3c4ccccc4Oc4ccccc43)cc2)c(-c2c...         2.1939   \n",
       "67   dev_67  CC1(C)c2ccccc2N(c2ccc(-c3nc4ccc(N5c6ccccc6C(C)...         2.3537   \n",
       "68   dev_68  Cc1cc(-n2c3ccc(C(C)(C)C)cc3c3cc(C(C)(C)C)ccc32...         2.1364   \n",
       "69   dev_69  Cc1cc(-n2c3ccccc3c3ccccc32)cc(C)c1B1c2ccccc2B(...         2.2650   \n",
       "70   dev_70  CC(C)(C)c1ccc2c(c1)c1cc(C(C)(C)C)ccc1n2-c1c(Cl...         2.5477   \n",
       "\n",
       "    T1_energy(eV)  \n",
       "0          3.3809  \n",
       "1          3.4585  \n",
       "2          3.1787  \n",
       "3          3.7847  \n",
       "4          6.2724  \n",
       "..            ...  \n",
       "66         2.1846  \n",
       "67         2.3371  \n",
       "68         2.1260  \n",
       "69         2.2511  \n",
       "70         2.4184  \n",
       "\n",
       "[30345 rows x 4 columns]"
      ]
     },
     "execution_count": 10,
     "metadata": {},
     "output_type": "execute_result"
    }
   ],
   "source": [
    "train"
   ]
  },
  {
   "cell_type": "code",
   "execution_count": 11,
   "metadata": {},
   "outputs": [
    {
     "data": {
      "text/plain": [
       "0      CCC1CCCCN1C(=O)C(C)OC(=O)c1c(C)oc(-n2cccc2)c1C#N\n",
       "1     COc1ccc(Oc2ccc(N3C(=S)NC(c4ccccn4)C3c3cc(C)n(-...\n",
       "2      CC(=O)Nc1ccc(C(=O)[C@H](C)Sc2nnc(C3CCCCC3)o2)cc1\n",
       "3                             OC(CNC1CC1)CN1CCc2sccc2C1\n",
       "4                        CCNC(CCCC(F)(F)F)C1(OCC)CCOCC1\n",
       "                            ...                        \n",
       "66    N#Cc1cc(-c2ccc(N3c4ccccc4Oc4ccccc43)cc2)c(-c2c...\n",
       "67    CC1(C)c2ccccc2N(c2ccc(-c3nc4ccc(N5c6ccccc6C(C)...\n",
       "68    Cc1cc(-n2c3ccc(C(C)(C)C)cc3c3cc(C(C)(C)C)ccc32...\n",
       "69    Cc1cc(-n2c3ccccc3c3ccccc32)cc(C)c1B1c2ccccc2B(...\n",
       "70    CC(C)(C)c1ccc2c(c1)c1cc(C(C)(C)C)ccc1n2-c1c(Cl...\n",
       "Name: SMILES, Length: 30345, dtype: object"
      ]
     },
     "execution_count": 11,
     "metadata": {},
     "output_type": "execute_result"
    }
   ],
   "source": [
    "train.SMILES"
   ]
  },
  {
   "cell_type": "code",
   "execution_count": 12,
   "metadata": {
    "colab": {
     "base_uri": "https://localhost:8080/",
     "height": 265
    },
    "executionInfo": {
     "elapsed": 943,
     "status": "ok",
     "timestamp": 1629258856381,
     "user": {
      "displayName": "­심채은(엘텍공과대학 휴먼기계바이오공학부)",
      "photoUrl": "",
      "userId": "04011176107829242101"
     },
     "user_tz": -540
    },
    "id": "t7K7Sfa7p_we",
    "outputId": "2f00f58f-f3d3-4da9-f018-92b8d0bf1b0c"
   },
   "outputs": [
    {
     "data": {
      "image/png": "[encoded data removed]",
      "text/plain": [
       "<Figure size 640x480 with 1 Axes>"
      ]
     },
     "metadata": {},
     "output_type": "display_data"
    }
   ],
   "source": [
    "train['S1_energy(eV)'].hist(bins=100, alpha=0.5)\n",
    "train['T1_energy(eV)'].hist(bins=100, alpha=0.5)\n",
    "plt.show()"
   ]
  },
  {
   "cell_type": "markdown",
   "metadata": {
    "id": "B6_xy9PVSf8R"
   },
   "source": [
    "## 데이터 전처리\n",
    "\n",
    "분자의 구조적 특성을 찾기 위해 SMILES와 분자구조 이미지를 사용하였습니다."
   ]
  },
  {
   "cell_type": "code",
   "execution_count": 13,
   "metadata": {
    "colab": {
     "base_uri": "https://localhost:8080/"
    },
    "executionInfo": {
     "elapsed": 820191,
     "status": "ok",
     "timestamp": 1629259788036,
     "user": {
      "displayName": "­심채은(엘텍공과대학 휴먼기계바이오공학부)",
      "photoUrl": "",
      "userId": "04011176107829242101"
     },
     "user_tz": -540
    },
    "id": "9xl8YBTep_we",
    "outputId": "0ab32445-69d1-4ba3-fc08-06a5a7116f54"
   },
   "outputs": [],
   "source": [
    "# for idx, row in tqdm(train.iterrows()):#행을 한줄씩 읽어들임\n",
    "#     file = row['uid']#그 한줄에 있는 'uid'part을 file 에!\n",
    "#     smiles = row['SMILES']\n",
    "#     m = Chem.MolFromSmiles(smiles)\n",
    "#     if m != None:\n",
    "#         img = Draw.MolToImage(m, size=(300,300))\n",
    "#         img.save(f'./train_imgs/{file}.png')"
   ]
  },
  {
   "cell_type": "code",
   "execution_count": 14,
   "metadata": {
    "colab": {
     "base_uri": "https://localhost:8080/",
     "height": 198
    },
    "executionInfo": {
     "elapsed": 112599,
     "status": "error",
     "timestamp": 1629336435260,
     "user": {
      "displayName": "심채은",
      "photoUrl": "",
      "userId": "05772196558834520993"
     },
     "user_tz": -540
    },
    "id": "knljH_YnSf8T",
    "outputId": "1464d642-9315-4078-eb97-ba5f35654650"
   },
   "outputs": [
    {
     "data": {
      "image/png": "[encoded data removed]",
      "text/plain": [
       "<Figure size 640x480 with 1 Axes>"
      ]
     },
     "metadata": {},
     "output_type": "display_data"
    }
   ],
   "source": [
    "sample_img = cv2.imread('./train_imgs/dev_0.png')\n",
    "plt.imshow(sample_img)\n",
    "plt.show()"
   ]
  },
  {
   "cell_type": "markdown",
   "metadata": {
    "id": "2ccGKkH5Sf8T"
   },
   "source": [
    "## 하이퍼파라미터"
   ]
  },
  {
   "cell_type": "code",
   "execution_count": 15,
   "metadata": {
    "id": "mBCHZd0Gp_wg"
   },
   "outputs": [],
   "source": [
    "device = torch.device(\"cuda:0\")\n",
    "BATCH_SIZE = 64\n",
    "EPOCHS = 30\n",
    "num_layers = 3\n",
    "dropout_rate = 0.1\n",
    "embedding_dim = 128\n",
    "learning_rate = 1e-3\n",
    "vision_pretrain = True\n",
    "save_path = f'./models/best_model.pt'"
   ]
  },
  {
   "cell_type": "markdown",
   "metadata": {
    "id": "e1t1Ri5FSf8U"
   },
   "source": [
    "## SMILES Tokenizing"
   ]
  },
  {
   "cell_type": "code",
   "execution_count": 16,
   "metadata": {
    "id": "XP7FhxPLp_wf"
   },
   "outputs": [],
   "source": [
    "class SMILES_Tokenizer():\n",
    "    def __init__(self, max_length):\n",
    "        self.txt2idx = {}#dictionary\n",
    "        self.idx2txt = {}#dictionary\n",
    "        self.max_length = max_length\n",
    "    \n",
    "    def fit(self, SMILES_list):\n",
    "        unique_char = set()#집합만들기\n",
    "        for smiles in SMILES_list:#train.SMILES 분자식 리스트에서\n",
    "            for char in smiles:#한 글자씩 뽑아서\n",
    "                unique_char.add(char)#집합에 더해\n",
    "        unique_char = sorted(list(unique_char))#집합을 리스트로 만든 다음 정렬!\n",
    "        for i, char in enumerate(unique_char):#하나씩 뽑아서\n",
    "            self.txt2idx[char]=i+2#얘네가 목적\n",
    "            self.idx2txt[i+2]=char#얘도\n",
    "            \n",
    "    def txt2seq(self, texts):#texts: 또 train.SMILES가 드감.\n",
    "        seqs = []#리스트\n",
    "        for text in tqdm(texts):#train.SMILES에서 한 줄씩 읽어서\n",
    "            seq = [0]*self.max_length#일단 seq는 0으로 이루어진 리스트이고\n",
    "            for i, t in enumerate(text):#아까 읽어들인 한 줄의 글자들을 순서대로 읽는데\n",
    "                if i == self.max_length:#만약 길이가 제일 긴거고 긴거의 마지막 글자면 반복문 나가\n",
    "                    break\n",
    "                try:#그게 아니면 seq에 글자의 순서위치에 글자가 가리키는 인덱스가 들어갈겨.\n",
    "                    seq[i] = self.txt2idx[t]\n",
    "                except:#없...으면? 1??\n",
    "                    seq[i] = 1\n",
    "            seqs.append(seq)\n",
    "        return np.array(seqs)#[...[], [], [], ...]"
   ]
  },
  {
   "cell_type": "code",
   "execution_count": 17,
   "metadata": {
    "colab": {
     "base_uri": "https://localhost:8080/"
    },
    "executionInfo": {
     "elapsed": 442,
     "status": "ok",
     "timestamp": 1629336492729,
     "user": {
      "displayName": "심채은",
      "photoUrl": "",
      "userId": "05772196558834520993"
     },
     "user_tz": -540
    },
    "id": "Aj9oVC7Xp_wf",
    "outputId": "b107427c-f3e6-40d3-c131-ad161c1e5712"
   },
   "outputs": [
    {
     "data": {
      "text/plain": [
       "265"
      ]
     },
     "execution_count": 17,
     "metadata": {},
     "output_type": "execute_result"
    }
   ],
   "source": [
    "max_len = train.SMILES.str.len().max()#가장 길이가 긴 것은?\n",
    "max_len"
   ]
  },
  {
   "cell_type": "code",
   "execution_count": 18,
   "metadata": {
    "id": "Xvo009bgp_wf"
   },
   "outputs": [],
   "source": [
    "tokenizer = SMILES_Tokenizer(max_len)\n",
    "tokenizer.fit(train.SMILES)#txt2idx, idx2txt 딕셔너리 생성됨. 모든 character에 대한 집합을 인덱스와 함께 딕셔너리로 저장"
   ]
  },
  {
   "cell_type": "code",
   "execution_count": 19,
   "metadata": {
    "colab": {
     "base_uri": "https://localhost:8080/"
    },
    "executionInfo": {
     "elapsed": 994,
     "status": "ok",
     "timestamp": 1629336501168,
     "user": {
      "displayName": "심채은",
      "photoUrl": "",
      "userId": "05772196558834520993"
     },
     "user_tz": -540
    },
    "id": "v8TdltRhp_wf",
    "outputId": "b57226c7-9d33-4492-ad2f-e582c0fcf027"
   },
   "outputs": [
    {
     "name": "stderr",
     "output_type": "stream",
     "text": [
      "100%|██████████| 30345/30345 [00:00<00:00, 43775.63it/s]\n"
     ]
    }
   ],
   "source": [
    "seqs = tokenizer.txt2seq(train.SMILES)\n",
    "labels = train[['S1_energy(eV)', 'T1_energy(eV)']].to_numpy()#이것이 정답이군\n",
    "imgs = ('./train_imgs/'+train.uid+'.png').to_numpy()#input"
   ]
  },
  {
   "cell_type": "code",
   "execution_count": 20,
   "metadata": {},
   "outputs": [
    {
     "data": {
      "text/plain": [
       "(30345, 2)"
      ]
     },
     "execution_count": 20,
     "metadata": {},
     "output_type": "execute_result"
    }
   ],
   "source": [
    "labels.shape"
   ]
  },
  {
   "cell_type": "markdown",
   "metadata": {
    "id": "8yBkLaa5Sf8X"
   },
   "source": [
    "## 학습 데이터셋"
   ]
  },
  {
   "cell_type": "code",
   "execution_count": 21,
   "metadata": {
    "id": "DxosU_4Kp_wg"
   },
   "outputs": [],
   "source": [
    "from sklearn.utils import shuffle\n",
    "imgs, seqs, labels = shuffle(imgs, seqs, labels, random_state=42)#아마 순서를 다 짝지은 상태에서 흔들어주는거겟지...?"
   ]
  },
  {
   "cell_type": "code",
   "execution_count": 22,
   "metadata": {
    "id": "zuO0XB0Kp_wg"
   },
   "outputs": [],
   "source": [
    "train_imgs = imgs[:27000]\n",
    "train_seqs = seqs[:27000]\n",
    "train_labels = labels[:27000]\n",
    "val_imgs = imgs[27000:]\n",
    "val_seqs = seqs[27000:]\n",
    "val_labels = labels[27000:]"
   ]
  },
  {
   "cell_type": "code",
   "execution_count": 23,
   "metadata": {
    "colab": {
     "base_uri": "https://localhost:8080/"
    },
    "executionInfo": {
     "elapsed": 417,
     "status": "ok",
     "timestamp": 1629336515426,
     "user": {
      "displayName": "심채은",
      "photoUrl": "",
      "userId": "05772196558834520993"
     },
     "user_tz": -540
    },
    "id": "4LFsNDNAp_wg",
    "outputId": "4c0bfc3d-bccc-450a-a8f7-f462d7da9733"
   },
   "outputs": [
    {
     "data": {
      "text/plain": [
       "((27000,), (27000, 265), (27000, 2), (3345,), (3345, 265), (3345, 2))"
      ]
     },
     "execution_count": 23,
     "metadata": {},
     "output_type": "execute_result"
    }
   ],
   "source": [
    "train_imgs.shape, train_seqs.shape, train_labels.shape, val_imgs.shape, val_seqs.shape, val_labels.shape"
   ]
  },
  {
   "cell_type": "code",
   "execution_count": 24,
   "metadata": {
    "id": "Ir5slCDRp_wg"
   },
   "outputs": [],
   "source": [
    "class CustomDataset(Dataset):\n",
    "    def __init__(self, imgs, seqs, labels=None, mode='train'):\n",
    "        self.mode = mode\n",
    "        self.imgs = imgs\n",
    "        self.seqs = seqs\n",
    "        if self.mode=='train':\n",
    "            self.labels = labels\n",
    "            \n",
    "    def __len__(self):\n",
    "        return len(self.imgs)\n",
    "    \n",
    "    def __getitem__(self, i):\n",
    "        img = cv2.imread(self.imgs[i]).astype(np.float32)/255\n",
    "        img = np.transpose(img, (2,0,1))\n",
    "        if self.mode == 'train':\n",
    "            return {\n",
    "                'img' : torch.tensor(img, dtype=torch.float32),#이미지 정보 하나\n",
    "                'seq' : torch.tensor(self.seqs[i], dtype=torch.long),#글 정보 하나, 분자식의 형태, 순서가 반영되어있는 정보\n",
    "                'label' : torch.tensor(self.labels[i], dtype=torch.float32)\n",
    "            }\n",
    "        else:\n",
    "            return {\n",
    "                'img' : torch.tensor(img, dtype=torch.float32),\n",
    "                'seq' : torch.tensor(self.seqs[i], dtype=torch.long),\n",
    "            }"
   ]
  },
  {
   "cell_type": "code",
   "execution_count": 25,
   "metadata": {
    "colab": {
     "base_uri": "https://localhost:8080/"
    },
    "executionInfo": {
     "elapsed": 512,
     "status": "ok",
     "timestamp": 1629336523605,
     "user": {
      "displayName": "심채은",
      "photoUrl": "",
      "userId": "05772196558834520993"
     },
     "user_tz": -540
    },
    "id": "GJfwH3Cop_wh",
    "outputId": "7d8b6f6c-9054-4d4e-e2cd-b6a60e8a5899"
   },
   "outputs": [],
   "source": [
    "train_dataset = CustomDataset(train_imgs, train_seqs, train_labels)\n",
    "val_dataset = CustomDataset(val_imgs, val_seqs, val_labels)\n",
    "\n",
    "train_dataloader = torch.utils.data.DataLoader(train_dataset, batch_size=BATCH_SIZE, num_workers=16, shuffle=True)\n",
    "val_dataloader = torch.utils.data.DataLoader(val_dataset, batch_size=BATCH_SIZE, num_workers=16, shuffle=True)"
   ]
  },
  {
   "cell_type": "code",
   "execution_count": 26,
   "metadata": {
    "colab": {
     "base_uri": "https://localhost:8080/"
    },
    "executionInfo": {
     "elapsed": 45631,
     "status": "ok",
     "timestamp": 1629336572411,
     "user": {
      "displayName": "심채은",
      "photoUrl": "",
      "userId": "05772196558834520993"
     },
     "user_tz": -540
    },
    "id": "PmG7KpwYp_wh",
    "outputId": "4a98043e-e2ca-4b75-abbb-53e40685b5f3"
   },
   "outputs": [],
   "source": [
    "sample_batch = next(iter(train_dataloader))#하나 뽑아볼까"
   ]
  },
  {
   "cell_type": "code",
   "execution_count": 27,
   "metadata": {
    "colab": {
     "base_uri": "https://localhost:8080/"
    },
    "executionInfo": {
     "elapsed": 780,
     "status": "ok",
     "timestamp": 1629259916255,
     "user": {
      "displayName": "­심채은(엘텍공과대학 휴먼기계바이오공학부)",
      "photoUrl": "",
      "userId": "04011176107829242101"
     },
     "user_tz": -540
    },
    "id": "UBvSNtEop_wh",
    "outputId": "e0d3365a-abcc-4368-a51c-a21e593de108"
   },
   "outputs": [
    {
     "data": {
      "text/plain": [
       "(torch.Size([64, 3, 300, 300]), torch.Size([64, 265]), torch.Size([64, 2]))"
      ]
     },
     "execution_count": 27,
     "metadata": {},
     "output_type": "execute_result"
    }
   ],
   "source": [
    "sample_batch['img'].size(), sample_batch['seq'].size(), sample_batch['label'].size()"
   ]
  },
  {
   "cell_type": "code",
   "execution_count": 28,
   "metadata": {
    "colab": {
     "base_uri": "https://localhost:8080/"
    },
    "executionInfo": {
     "elapsed": 628,
     "status": "ok",
     "timestamp": 1629259922029,
     "user": {
      "displayName": "­심채은(엘텍공과대학 휴먼기계바이오공학부)",
      "photoUrl": "",
      "userId": "04011176107829242101"
     },
     "user_tz": -540
    },
    "id": "laCaLggBp_wh",
    "outputId": "7cca6ddd-e0df-47c5-81b0-6c583c4e60ea"
   },
   "outputs": [
    {
     "data": {
      "text/plain": [
       "(torch.float32, torch.int64, torch.float32)"
      ]
     },
     "execution_count": 28,
     "metadata": {},
     "output_type": "execute_result"
    }
   ],
   "source": [
    "sample_batch['img'].dtype, sample_batch['seq'].dtype, sample_batch['label'].dtype"
   ]
  },
  {
   "cell_type": "markdown",
   "metadata": {
    "id": "vkf3DAGdSf8c"
   },
   "source": [
    "## 모델\n",
    "\n",
    "ResNet50에 LSTM을 연결한 CNN2RNN 모델"
   ]
  },
  {
   "cell_type": "code",
   "execution_count": 29,
   "metadata": {
    "id": "_i-qP4G7Sf8c"
   },
   "outputs": [],
   "source": [
    "class CNN_Encoder(nn.Module):\n",
    "    def __init__(self, embedding_dim, rate):\n",
    "        super(CNN_Encoder, self).__init__()#이게 머더라\n",
    "        model = models.resnet50(pretrained=vision_pretrain)#모델 긁어와서\n",
    "        modules = list(model.children())[:-2]\n",
    "        self.feature_extract_model = nn.Sequential(*modules)\n",
    "        self.dropout1 = nn.Dropout(rate)\n",
    "        self.fc = nn.Linear(2048, embedding_dim)\n",
    "        self.dropout2 = nn.Dropout(rate)\n",
    "        \n",
    "    def forward(self, x):\n",
    "        x = self.feature_extract_model(x)\n",
    "        x = x.permute(0,2,3,1)\n",
    "        x = x.view(x.size(0), -1, x.size(3))\n",
    "        x = self.dropout1(x)\n",
    "        x = nn.ReLU()(self.fc(x))\n",
    "        x = self.dropout2(x)\n",
    "        return x"
   ]
  },
  {
   "cell_type": "code",
   "execution_count": null,
   "metadata": {},
   "outputs": [],
   "source": []
  },
  {
   "cell_type": "code",
   "execution_count": 30,
   "metadata": {
    "id": "eXJMv6ahSf8d"
   },
   "outputs": [],
   "source": [
    "class RNN_Decoder(nn.Module):\n",
    "    def __init__(self, max_len, embedding_dim, num_layers, rate):\n",
    "        super(RNN_Decoder, self).__init__()\n",
    "        self.embedding = nn.Embedding(max_len, embedding_dim)\n",
    "        self.dropout = nn.Dropout(rate)\n",
    "        self.lstm = nn.LSTM(embedding_dim, embedding_dim, num_layers)\n",
    "        self.final_layer = nn.Linear((max_len+100)*embedding_dim, 2)\n",
    "\n",
    "    def forward(self, enc_out, dec_inp):\n",
    "        embedded = self.embedding(dec_inp)\n",
    "        embedded = self.dropout(embedded)\n",
    "        embedded = torch.cat([enc_out, embedded], dim=1)\n",
    "        hidden, _ = self.lstm(embedded)#hidden 은 대충 output, _은 (cn,hn)머시긴데 필요없으니까 _\n",
    "#         print(hidden.shape)\n",
    "        hidden = hidden.view(hidden.size(0), -1)#\n",
    "#         print(hidden.shape)\n",
    "        output = nn.ReLU()(self.final_layer(hidden))\n",
    "        return output"
   ]
  },
  {
   "cell_type": "code",
   "execution_count": 31,
   "metadata": {
    "id": "3NRSbSDGSf8d"
   },
   "outputs": [],
   "source": [
    "class CNN2RNN(nn.Module):\n",
    "    def __init__(self, embedding_dim, max_len, num_layers, rate):\n",
    "        super(CNN2RNN, self).__init__()\n",
    "        self.cnn = CNN_Encoder(embedding_dim, rate)\n",
    "        self.rnn = RNN_Decoder(max_len, embedding_dim, num_layers, rate)\n",
    "        \n",
    "    def forward(self, img, seq):\n",
    "        cnn_output = self.cnn(img)\n",
    "        output = self.rnn(cnn_output, seq)\n",
    "        \n",
    "        return output"
   ]
  },
  {
   "cell_type": "code",
   "execution_count": 32,
   "metadata": {
    "colab": {
     "base_uri": "https://localhost:8080/",
     "height": 66,
     "referenced_widgets": [
      "66ac3e98e2f046108802a4ee7db9a2cc",
      "587857b061ac468ba7ebb7196a870f68",
      "a995d05936d4407cbb7749b50cff1f67",
      "f429a862b645462eaf4a2c82b882d692",
      "244aafbb07da459bbcfa72ee6d8205eb",
      "84c7e62f524c435aac8a7fadcc9ffd68",
      "cdcbfb7a5fdf41d9ae99a3cb2ea716dc",
      "922aabd3aa2349d4924719cb9e4ed6d4",
      "d3a959b849de409380e68b09020369fe",
      "b3565aef7aac420eb9d2a74494c35275",
      "d12e855744184127aecf9007a415ad72"
     ]
    },
    "executionInfo": {
     "elapsed": 11808,
     "status": "ok",
     "timestamp": 1629336660858,
     "user": {
      "displayName": "심채은",
      "photoUrl": "",
      "userId": "05772196558834520993"
     },
     "user_tz": -540
    },
    "id": "FZcVnSjhSf8e",
    "outputId": "4225dcb7-56db-444f-f3d0-3e354861b1e4"
   },
   "outputs": [],
   "source": [
    "model = CNN2RNN(embedding_dim=embedding_dim, max_len=max_len, num_layers=num_layers, rate=dropout_rate)\n",
    "model = model.to(device)"
   ]
  },
  {
   "cell_type": "markdown",
   "metadata": {
    "id": "YuWw4ZWpSf8e"
   },
   "source": [
    "## 학습 정의"
   ]
  },
  {
   "cell_type": "code",
   "execution_count": 33,
   "metadata": {
    "id": "5C_GVYbcp_wl"
   },
   "outputs": [],
   "source": [
    "optimizer = torch.optim.Adam(model.parameters(), lr=learning_rate)\n",
    "criterion = nn.L1Loss()"
   ]
  },
  {
   "cell_type": "code",
   "execution_count": 34,
   "metadata": {
    "id": "2-jW8B5qp_wm"
   },
   "outputs": [],
   "source": [
    "def train_step(batch_item, epoch, batch, training):\n",
    "    img = batch_item['img'].to(device)\n",
    "    seq = batch_item['seq'].to(device)\n",
    "    label = batch_item['label'].to(device)\n",
    "    if training is True:\n",
    "        model.train()\n",
    "        optimizer.zero_grad()\n",
    "        with torch.cuda.amp.autocast():\n",
    "            output = model(img, seq)\n",
    "            loss = criterion(output, label)\n",
    "        loss.backward()\n",
    "        optimizer.step()\n",
    "        \n",
    "        return loss\n",
    "    else:\n",
    "        model.eval()\n",
    "        with torch.no_grad():\n",
    "            output = model(img, seq)\n",
    "            loss = criterion(output, label)\n",
    "            \n",
    "        return loss"
   ]
  },
  {
   "cell_type": "markdown",
   "metadata": {
    "id": "X2px1IZFSf8f"
   },
   "source": [
    "## 학습"
   ]
  },
  {
   "cell_type": "code",
   "execution_count": 35,
   "metadata": {
    "colab": {
     "base_uri": "https://localhost:8080/"
    },
    "executionInfo": {
     "elapsed": 25634641,
     "status": "ok",
     "timestamp": 1629286722616,
     "user": {
      "displayName": "­심채은(엘텍공과대학 휴먼기계바이오공학부)",
      "photoUrl": "",
      "userId": "04011176107829242101"
     },
     "user_tz": -540
    },
    "id": "Z53hB3qLp_wm",
    "outputId": "2d62aead-0aee-408e-9687-2ecc6a8df8c5"
   },
   "outputs": [
    {
     "name": "stderr",
     "output_type": "stream",
     "text": [
      "0it [00:00, ?it/s]/home/chaeeun/.conda/envs/sce/lib/python3.7/site-packages/torch/nn/functional.py:718: UserWarning: Named tensors and all their associated APIs are an experimental feature and subject to change. Please do not use them for anything important until they are released as stable. (Triggered internally at  /pytorch/c10/core/TensorImpl.h:1156.)\n",
      "  return torch.max_pool2d(input, kernel_size, stride, padding, dilation, ceil_mode)\n",
      "422it [01:49,  3.87it/s, Epoch=1, Loss=0.460403, Total Loss=1.737270]\n",
      "53it [00:09,  5.84it/s, Epoch=1, Val Loss=0.909702, Total Val Loss=0.997196]\n",
      "422it [01:47,  3.92it/s, Epoch=2, Loss=0.351100, Total Loss=0.434784]\n",
      "53it [00:09,  5.83it/s, Epoch=2, Val Loss=0.904621, Total Val Loss=1.082905]\n",
      "422it [01:46,  3.96it/s, Epoch=3, Loss=0.491619, Total Loss=0.413269]\n",
      "53it [00:09,  5.84it/s, Epoch=3, Val Loss=0.838643, Total Val Loss=0.639692]\n",
      "422it [01:51,  3.79it/s, Epoch=4, Loss=0.468817, Total Loss=0.396404]\n",
      "53it [00:09,  5.37it/s, Epoch=4, Val Loss=0.522688, Total Val Loss=0.585736]\n",
      "268it [01:12,  3.68it/s, Epoch=5, Loss=0.398464, Total Loss=0.392735]\n"
     ]
    },
    {
     "ename": "KeyboardInterrupt",
     "evalue": "",
     "output_type": "error",
     "traceback": [
      "\u001b[0;31m---------------------------------------------------------------------------\u001b[0m",
      "\u001b[0;31mKeyboardInterrupt\u001b[0m                         Traceback (most recent call last)",
      "\u001b[0;32m<ipython-input-35-f90dabf75d03>\u001b[0m in \u001b[0;36m<module>\u001b[0;34m\u001b[0m\n\u001b[1;32m      6\u001b[0m     \u001b[0mtqdm_dataset\u001b[0m \u001b[0;34m=\u001b[0m \u001b[0mtqdm\u001b[0m\u001b[0;34m(\u001b[0m\u001b[0menumerate\u001b[0m\u001b[0;34m(\u001b[0m\u001b[0mtrain_dataloader\u001b[0m\u001b[0;34m)\u001b[0m\u001b[0;34m)\u001b[0m\u001b[0;34m\u001b[0m\u001b[0;34m\u001b[0m\u001b[0m\n\u001b[1;32m      7\u001b[0m     \u001b[0mtraining\u001b[0m \u001b[0;34m=\u001b[0m \u001b[0;32mTrue\u001b[0m\u001b[0;34m\u001b[0m\u001b[0;34m\u001b[0m\u001b[0m\n\u001b[0;32m----> 8\u001b[0;31m     \u001b[0;32mfor\u001b[0m \u001b[0mbatch\u001b[0m\u001b[0;34m,\u001b[0m \u001b[0mbatch_item\u001b[0m \u001b[0;32min\u001b[0m \u001b[0mtqdm_dataset\u001b[0m\u001b[0;34m:\u001b[0m\u001b[0;34m\u001b[0m\u001b[0;34m\u001b[0m\u001b[0m\n\u001b[0m\u001b[1;32m      9\u001b[0m         \u001b[0mbatch_loss\u001b[0m \u001b[0;34m=\u001b[0m \u001b[0mtrain_step\u001b[0m\u001b[0;34m(\u001b[0m\u001b[0mbatch_item\u001b[0m\u001b[0;34m,\u001b[0m \u001b[0mepoch\u001b[0m\u001b[0;34m,\u001b[0m \u001b[0mbatch\u001b[0m\u001b[0;34m,\u001b[0m \u001b[0mtraining\u001b[0m\u001b[0;34m)\u001b[0m\u001b[0;34m\u001b[0m\u001b[0;34m\u001b[0m\u001b[0m\n\u001b[1;32m     10\u001b[0m         \u001b[0mtotal_loss\u001b[0m \u001b[0;34m+=\u001b[0m \u001b[0mbatch_loss\u001b[0m\u001b[0;34m\u001b[0m\u001b[0;34m\u001b[0m\u001b[0m\n",
      "\u001b[0;31mKeyboardInterrupt\u001b[0m: "
     ]
    }
   ],
   "source": [
    "loss_plot, val_loss_plot = [], []\n",
    "\n",
    "for epoch in range(EPOCHS):\n",
    "    total_loss, total_val_loss = 0, 0\n",
    "    \n",
    "    tqdm_dataset = tqdm(enumerate(train_dataloader))\n",
    "    training = True\n",
    "    for batch, batch_item in tqdm_dataset:\n",
    "        batch_loss = train_step(batch_item, epoch, batch, training)\n",
    "        total_loss += batch_loss\n",
    "        \n",
    "        tqdm_dataset.set_postfix({\n",
    "            'Epoch': epoch + 1,\n",
    "            'Loss': '{:06f}'.format(batch_loss.item()),\n",
    "            'Total Loss' : '{:06f}'.format(total_loss/(batch+1))\n",
    "        })\n",
    "    loss_plot.append(total_loss/(batch+1))\n",
    "    \n",
    "    tqdm_dataset = tqdm(enumerate(val_dataloader))\n",
    "    training = False\n",
    "    for batch, batch_item in tqdm_dataset:\n",
    "        batch_loss = train_step(batch_item, epoch, batch, training)\n",
    "        total_val_loss += batch_loss\n",
    "        \n",
    "        tqdm_dataset.set_postfix({\n",
    "            'Epoch': epoch + 1,\n",
    "            'Val Loss': '{:06f}'.format(batch_loss.item()),\n",
    "            'Total Val Loss' : '{:06f}'.format(total_val_loss/(batch+1))\n",
    "        })\n",
    "    val_loss_plot.append(total_val_loss/(batch+1))\n",
    "    \n",
    "    if min(val_loss_plot) == val_loss_plot[-1]:#np.min(val_loss_plot) == val_loss_plot[-1]\n",
    "        torch.save(model, save_path)"
   ]
  },
  {
   "cell_type": "code",
   "execution_count": 33,
   "metadata": {},
   "outputs": [
    {
     "data": {
      "text/plain": [
       "[tensor(0.4495, device='cuda:0'),\n",
       " tensor(0.5943, device='cuda:0'),\n",
       " tensor(0.9088, device='cuda:0'),\n",
       " tensor(0.7516, device='cuda:0'),\n",
       " tensor(0.5468, device='cuda:0'),\n",
       " tensor(0.6211, device='cuda:0'),\n",
       " tensor(1.1323, device='cuda:0'),\n",
       " tensor(0.4776, device='cuda:0'),\n",
       " tensor(0.8215, device='cuda:0'),\n",
       " tensor(0.4571, device='cuda:0'),\n",
       " tensor(0.6775, device='cuda:0'),\n",
       " tensor(0.4362, device='cuda:0'),\n",
       " tensor(0.7156, device='cuda:0'),\n",
       " tensor(0.3567, device='cuda:0'),\n",
       " tensor(1.5664, device='cuda:0'),\n",
       " tensor(0.3909, device='cuda:0'),\n",
       " tensor(1.1709, device='cuda:0'),\n",
       " tensor(0.3646, device='cuda:0'),\n",
       " tensor(0.4178, device='cuda:0'),\n",
       " tensor(0.8242, device='cuda:0'),\n",
       " tensor(0.7548, device='cuda:0'),\n",
       " tensor(0.6177, device='cuda:0'),\n",
       " tensor(0.3997, device='cuda:0'),\n",
       " tensor(0.7016, device='cuda:0'),\n",
       " tensor(0.6229, device='cuda:0'),\n",
       " tensor(0.5826, device='cuda:0'),\n",
       " tensor(0.4250, device='cuda:0'),\n",
       " tensor(0.6713, device='cuda:0'),\n",
       " tensor(0.6291, device='cuda:0'),\n",
       " tensor(0.6160, device='cuda:0')]"
      ]
     },
     "execution_count": 33,
     "metadata": {},
     "output_type": "execute_result"
    }
   ],
   "source": [
    "val_loss_plot"
   ]
  },
  {
   "cell_type": "code",
   "execution_count": null,
   "metadata": {},
   "outputs": [],
   "source": []
  },
  {
   "cell_type": "markdown",
   "metadata": {
    "id": "hTmDNqpqSf8f"
   },
   "source": [
    "## 학습 결과"
   ]
  },
  {
   "cell_type": "code",
   "execution_count": 34,
   "metadata": {
    "colab": {
     "base_uri": "https://localhost:8080/",
     "height": 232
    },
    "executionInfo": {
     "elapsed": 457,
     "status": "error",
     "timestamp": 1629336964071,
     "user": {
      "displayName": "심채은",
      "photoUrl": "",
      "userId": "05772196558834520993"
     },
     "user_tz": -540
    },
    "id": "mn7sFqbSO4ag",
    "outputId": "d574f981-a110-4f30-9ac3-3cc929cc44e3"
   },
   "outputs": [],
   "source": [
    "# plt.plot(loss_plot, label='train_loss')\n",
    "# plt.plot(val_loss_plot, label='val_loss')\n",
    "# plt.xlabel('epoch')\n",
    "# plt.ylabel('loss(mae)')\n",
    "# plt.legend()\n",
    "# plt.show()"
   ]
  },
  {
   "cell_type": "markdown",
   "metadata": {
    "id": "hyRAf35NSf8g"
   },
   "source": [
    "## 모델 복원"
   ]
  },
  {
   "cell_type": "code",
   "execution_count": 35,
   "metadata": {
    "id": "G2pPBLw9Sf8l"
   },
   "outputs": [],
   "source": [
    "model = torch.load(save_path)"
   ]
  },
  {
   "cell_type": "markdown",
   "metadata": {
    "id": "AZW-TKatSf8p"
   },
   "source": [
    "## 테스트 데이터 및 제출 양식 로드"
   ]
  },
  {
   "cell_type": "code",
   "execution_count": 36,
   "metadata": {
    "id": "8uYNwOYISf8p"
   },
   "outputs": [],
   "source": [
    "test = pd.read_csv('./test.csv')\n",
    "submission = pd.read_csv('./sample_submission.csv')"
   ]
  },
  {
   "cell_type": "markdown",
   "metadata": {
    "id": "lTz581YdSf8q"
   },
   "source": [
    "## 테스트 데이터 전처리"
   ]
  },
  {
   "cell_type": "code",
   "execution_count": 37,
   "metadata": {
    "colab": {
     "base_uri": "https://localhost:8080/"
    },
    "executionInfo": {
     "elapsed": 17216,
     "status": "ok",
     "timestamp": 1629337106924,
     "user": {
      "displayName": "심채은",
      "photoUrl": "",
      "userId": "05772196558834520993"
     },
     "user_tz": -540
    },
    "id": "NETV64JGSf8q",
    "outputId": "7e414bf6-4820-41d1-e480-387a360d3962"
   },
   "outputs": [],
   "source": [
    "# for idx, row in tqdm(test.iterrows()):\n",
    "#     file = row['uid']\n",
    "#     smiles = row['SMILES']\n",
    "#     m = Chem.MolFromSmiles(smiles)\n",
    "#     if m != None:\n",
    "#         img = Draw.MolToImage(m, size=(300,300))\n",
    "#         img.save(f'./test_imgs/{file}.png')"
   ]
  },
  {
   "cell_type": "markdown",
   "metadata": {
    "id": "PRtQvMqZSf8r"
   },
   "source": [
    "## 테스트 데이터셋"
   ]
  },
  {
   "cell_type": "code",
   "execution_count": 38,
   "metadata": {
    "colab": {
     "base_uri": "https://localhost:8080/"
    },
    "executionInfo": {
     "elapsed": 417,
     "status": "ok",
     "timestamp": 1629337175089,
     "user": {
      "displayName": "심채은",
      "photoUrl": "",
      "userId": "05772196558834520993"
     },
     "user_tz": -540
    },
    "id": "orlgxa--Sf8r",
    "outputId": "30a7e4a8-c60d-4caf-df85-55600d72117d"
   },
   "outputs": [
    {
     "name": "stderr",
     "output_type": "stream",
     "text": [
      "100%|██████████| 602/602 [00:00<00:00, 41598.23it/s]\n"
     ]
    }
   ],
   "source": [
    "test_seqs = tokenizer.txt2seq(test.SMILES)\n",
    "test_imgs = ('./test_imgs/'+test.uid+'.png').to_numpy()"
   ]
  },
  {
   "cell_type": "code",
   "execution_count": 39,
   "metadata": {
    "colab": {
     "base_uri": "https://localhost:8080/"
    },
    "executionInfo": {
     "elapsed": 425,
     "status": "ok",
     "timestamp": 1629337185319,
     "user": {
      "displayName": "심채은",
      "photoUrl": "",
      "userId": "05772196558834520993"
     },
     "user_tz": -540
    },
    "id": "SpTfroehSf8r",
    "outputId": "ffb64de5-df9d-4c01-c297-489b0edca579"
   },
   "outputs": [],
   "source": [
    "test_dataset = CustomDataset(imgs=test_imgs, seqs=test_seqs, labels=None, mode='test')\n",
    "test_dataloader = torch.utils.data.DataLoader(test_dataset, batch_size=BATCH_SIZE, num_workers=16)"
   ]
  },
  {
   "cell_type": "markdown",
   "metadata": {
    "id": "HxVwQTyiSf8r"
   },
   "source": [
    "## 추론 및 제출"
   ]
  },
  {
   "cell_type": "code",
   "execution_count": 40,
   "metadata": {
    "id": "lGr05pBASf8s"
   },
   "outputs": [],
   "source": [
    "def predict(dataset):\n",
    "    model.eval()\n",
    "    result = []\n",
    "    for batch_item in dataset:\n",
    "        img = batch_item['img'].to(device)\n",
    "        seq = batch_item['seq'].to(device)\n",
    "        with torch.no_grad():\n",
    "            output = model(img, seq)\n",
    "        output = output.cpu().numpy()\n",
    "        gap = output[:, 0] - output[:, 1]\n",
    "        gap = np.where(gap<0, 0, gap)\n",
    "        result.extend(list(gap))\n",
    "        \n",
    "    return result"
   ]
  },
  {
   "cell_type": "code",
   "execution_count": 41,
   "metadata": {
    "colab": {
     "base_uri": "https://localhost:8080/"
    },
    "executionInfo": {
     "elapsed": 12072,
     "status": "ok",
     "timestamp": 1629337212837,
     "user": {
      "displayName": "심채은",
      "photoUrl": "",
      "userId": "05772196558834520993"
     },
     "user_tz": -540
    },
    "id": "Erv8KU0NSf8s",
    "outputId": "54f20aa6-6ef8-4d8a-b86b-be17bb056eb7"
   },
   "outputs": [],
   "source": [
    "pred = predict(test_dataloader)"
   ]
  },
  {
   "cell_type": "code",
   "execution_count": 42,
   "metadata": {
    "id": "l6SpNxdWSf8s"
   },
   "outputs": [],
   "source": [
    "submission['ST1_GAP(eV)'] = pred"
   ]
  },
  {
   "cell_type": "code",
   "execution_count": 43,
   "metadata": {
    "colab": {
     "base_uri": "https://localhost:8080/",
     "height": 419
    },
    "executionInfo": {
     "elapsed": 490,
     "status": "ok",
     "timestamp": 1629337222723,
     "user": {
      "displayName": "심채은",
      "photoUrl": "",
      "userId": "05772196558834520993"
     },
     "user_tz": -540
    },
    "id": "AavPsIF8Sf8s",
    "outputId": "03f7dadb-fa47-4507-89b2-5132c9e7c080"
   },
   "outputs": [
    {
     "data": {
      "text/html": [
       "<div>\n",
       "<style scoped>\n",
       "    .dataframe tbody tr th:only-of-type {\n",
       "        vertical-align: middle;\n",
       "    }\n",
       "\n",
       "    .dataframe tbody tr th {\n",
       "        vertical-align: top;\n",
       "    }\n",
       "\n",
       "    .dataframe thead th {\n",
       "        text-align: right;\n",
       "    }\n",
       "</style>\n",
       "<table border=\"1\" class=\"dataframe\">\n",
       "  <thead>\n",
       "    <tr style=\"text-align: right;\">\n",
       "      <th></th>\n",
       "      <th>uid</th>\n",
       "      <th>ST1_GAP(eV)</th>\n",
       "    </tr>\n",
       "  </thead>\n",
       "  <tbody>\n",
       "    <tr>\n",
       "      <th>0</th>\n",
       "      <td>test_0</td>\n",
       "      <td>0.879373</td>\n",
       "    </tr>\n",
       "    <tr>\n",
       "      <th>1</th>\n",
       "      <td>test_1</td>\n",
       "      <td>0.960755</td>\n",
       "    </tr>\n",
       "    <tr>\n",
       "      <th>2</th>\n",
       "      <td>test_2</td>\n",
       "      <td>0.909495</td>\n",
       "    </tr>\n",
       "    <tr>\n",
       "      <th>3</th>\n",
       "      <td>test_3</td>\n",
       "      <td>0.628207</td>\n",
       "    </tr>\n",
       "    <tr>\n",
       "      <th>4</th>\n",
       "      <td>test_4</td>\n",
       "      <td>0.556311</td>\n",
       "    </tr>\n",
       "    <tr>\n",
       "      <th>...</th>\n",
       "      <td>...</td>\n",
       "      <td>...</td>\n",
       "    </tr>\n",
       "    <tr>\n",
       "      <th>597</th>\n",
       "      <td>test_597</td>\n",
       "      <td>0.540347</td>\n",
       "    </tr>\n",
       "    <tr>\n",
       "      <th>598</th>\n",
       "      <td>test_598</td>\n",
       "      <td>0.592062</td>\n",
       "    </tr>\n",
       "    <tr>\n",
       "      <th>599</th>\n",
       "      <td>test_599</td>\n",
       "      <td>0.876812</td>\n",
       "    </tr>\n",
       "    <tr>\n",
       "      <th>600</th>\n",
       "      <td>test_600</td>\n",
       "      <td>0.950485</td>\n",
       "    </tr>\n",
       "    <tr>\n",
       "      <th>601</th>\n",
       "      <td>test_601</td>\n",
       "      <td>0.797966</td>\n",
       "    </tr>\n",
       "  </tbody>\n",
       "</table>\n",
       "<p>602 rows × 2 columns</p>\n",
       "</div>"
      ],
      "text/plain": [
       "          uid  ST1_GAP(eV)\n",
       "0      test_0     0.879373\n",
       "1      test_1     0.960755\n",
       "2      test_2     0.909495\n",
       "3      test_3     0.628207\n",
       "4      test_4     0.556311\n",
       "..        ...          ...\n",
       "597  test_597     0.540347\n",
       "598  test_598     0.592062\n",
       "599  test_599     0.876812\n",
       "600  test_600     0.950485\n",
       "601  test_601     0.797966\n",
       "\n",
       "[602 rows x 2 columns]"
      ]
     },
     "execution_count": 43,
     "metadata": {},
     "output_type": "execute_result"
    }
   ],
   "source": [
    "submission"
   ]
  },
  {
   "cell_type": "code",
   "execution_count": 44,
   "metadata": {
    "id": "7YeaN9vJSf8t"
   },
   "outputs": [],
   "source": [
    "submission.to_csv('dacon_baseline.csv', index=False)"
   ]
  },
  {
   "cell_type": "markdown",
   "metadata": {
    "id": "KR2puZ1qSf8t"
   },
   "source": [
    "제출 API 사용법 => https://dacon.io/forum/403557"
   ]
  },
  {
   "cell_type": "code",
   "execution_count": 45,
   "metadata": {
    "colab": {
     "base_uri": "https://localhost:8080/"
    },
    "executionInfo": {
     "elapsed": 3681,
     "status": "ok",
     "timestamp": 1629339251161,
     "user": {
      "displayName": "심채은",
      "photoUrl": "",
      "userId": "05772196558834520993"
     },
     "user_tz": -540
    },
    "id": "jtFVeJT-LE2x",
    "outputId": "1a52079a-82eb-4b32-c134-98f833b8db88"
   },
   "outputs": [],
   "source": [
    "# !pip install dacon_submit_api-0.0.4-py3-none-any.whl"
   ]
  },
  {
   "cell_type": "code",
   "execution_count": 46,
   "metadata": {
    "colab": {
     "base_uri": "https://localhost:8080/"
    },
    "executionInfo": {
     "elapsed": 3506,
     "status": "ok",
     "timestamp": 1629339274910,
     "user": {
      "displayName": "심채은",
      "photoUrl": "",
      "userId": "05772196558834520993"
     },
     "user_tz": -540
    },
    "id": "4EMaCMBaSf8t",
    "outputId": "814fa82a-8f51-439b-b0bb-99694535a81e"
   },
   "outputs": [
    {
     "name": "stdout",
     "output_type": "stream",
     "text": [
      "{'isSubmitted': True, 'detail': 'Success'}\n"
     ]
    }
   ],
   "source": [
    "from dacon_submit_api import dacon_submit_api \n",
    "\n",
    "result = dacon_submit_api.post_submission_file(\n",
    "    'dacon_baseline.csv', \n",
    "    '2c85d68c97fb6955c823e742cddacea09d4b3a28f3ea41a15df46950f3656515', \n",
    "    '235789', \n",
    "    '픽미픽미픽미업', \n",
    "    'DACON_1'\n",
    ")"
   ]
  },
  {
   "cell_type": "markdown",
   "metadata": {
    "id": "O4Et7kGgSf8t"
   },
   "source": [
    "# Public LB Score : 0.1871130054"
   ]
  },
  {
   "cell_type": "code",
   "execution_count": null,
   "metadata": {},
   "outputs": [],
   "source": []
  },
  {
   "cell_type": "code",
   "execution_count": null,
   "metadata": {},
   "outputs": [],
   "source": []
  },
  {
   "cell_type": "code",
   "execution_count": null,
   "metadata": {},
   "outputs": [],
   "source": []
  },
  {
   "cell_type": "code",
   "execution_count": null,
   "metadata": {},
   "outputs": [],
   "source": []
  },
  {
   "cell_type": "code",
   "execution_count": null,
   "metadata": {},
   "outputs": [],
   "source": []
  }
 ],
 "metadata": {
  "accelerator": "GPU",
  "colab": {
   "collapsed_sections": [],
   "name": "samsungai_CNN2RNN(ResNet50, LSTM).ipynb",
   "provenance": []
  },
  "kernelspec": {
   "display_name": "Python 3",
   "language": "python",
   "name": "python3"
  },
  "language_info": {
   "codemirror_mode": {
    "name": "ipython",
    "version": 3
   },
   "file_extension": ".py",
   "mimetype": "text/x-python",
   "name": "python",
   "nbconvert_exporter": "python",
   "pygments_lexer": "ipython3",
   "version": "3.7.11"
  },
  "widgets": {
   "application/vnd.jupyter.widget-state+json": {
    "244aafbb07da459bbcfa72ee6d8205eb": {
     "model_module": "@jupyter-widgets/controls",
     "model_module_version": "1.5.0",
     "model_name": "HTMLModel",
     "state": {
      "_dom_classes": [],
      "_model_module": "@jupyter-widgets/controls",
      "_model_module_version": "1.5.0",
      "_model_name": "HTMLModel",
      "_view_count": null,
      "_view_module": "@jupyter-widgets/controls",
      "_view_module_version": "1.5.0",
      "_view_name": "HTMLView",
      "description": "",
      "description_tooltip": null,
      "layout": "IPY_MODEL_d12e855744184127aecf9007a415ad72",
      "placeholder": "​",
      "style": "IPY_MODEL_b3565aef7aac420eb9d2a74494c35275",
      "value": " 97.8M/97.8M [00:00&lt;00:00, 125MB/s]"
     }
    },
    "587857b061ac468ba7ebb7196a870f68": {
     "model_module": "@jupyter-widgets/base",
     "model_module_version": "1.2.0",
     "model_name": "LayoutModel",
     "state": {
      "_model_module": "@jupyter-widgets/base",
      "_model_module_version": "1.2.0",
      "_model_name": "LayoutModel",
      "_view_count": null,
      "_view_module": "@jupyter-widgets/base",
      "_view_module_version": "1.2.0",
      "_view_name": "LayoutView",
      "align_content": null,
      "align_items": null,
      "align_self": null,
      "border": null,
      "bottom": null,
      "display": null,
      "flex": null,
      "flex_flow": null,
      "grid_area": null,
      "grid_auto_columns": null,
      "grid_auto_flow": null,
      "grid_auto_rows": null,
      "grid_column": null,
      "grid_gap": null,
      "grid_row": null,
      "grid_template_areas": null,
      "grid_template_columns": null,
      "grid_template_rows": null,
      "height": null,
      "justify_content": null,
      "justify_items": null,
      "left": null,
      "margin": null,
      "max_height": null,
      "max_width": null,
      "min_height": null,
      "min_width": null,
      "object_fit": null,
      "object_position": null,
      "order": null,
      "overflow": null,
      "overflow_x": null,
      "overflow_y": null,
      "padding": null,
      "right": null,
      "top": null,
      "visibility": null,
      "width": null
     }
    },
    "66ac3e98e2f046108802a4ee7db9a2cc": {
     "model_module": "@jupyter-widgets/controls",
     "model_module_version": "1.5.0",
     "model_name": "HBoxModel",
     "state": {
      "_dom_classes": [],
      "_model_module": "@jupyter-widgets/controls",
      "_model_module_version": "1.5.0",
      "_model_name": "HBoxModel",
      "_view_count": null,
      "_view_module": "@jupyter-widgets/controls",
      "_view_module_version": "1.5.0",
      "_view_name": "HBoxView",
      "box_style": "",
      "children": [
       "IPY_MODEL_a995d05936d4407cbb7749b50cff1f67",
       "IPY_MODEL_f429a862b645462eaf4a2c82b882d692",
       "IPY_MODEL_244aafbb07da459bbcfa72ee6d8205eb"
      ],
      "layout": "IPY_MODEL_587857b061ac468ba7ebb7196a870f68"
     }
    },
    "84c7e62f524c435aac8a7fadcc9ffd68": {
     "model_module": "@jupyter-widgets/controls",
     "model_module_version": "1.5.0",
     "model_name": "DescriptionStyleModel",
     "state": {
      "_model_module": "@jupyter-widgets/controls",
      "_model_module_version": "1.5.0",
      "_model_name": "DescriptionStyleModel",
      "_view_count": null,
      "_view_module": "@jupyter-widgets/base",
      "_view_module_version": "1.2.0",
      "_view_name": "StyleView",
      "description_width": ""
     }
    },
    "922aabd3aa2349d4924719cb9e4ed6d4": {
     "model_module": "@jupyter-widgets/controls",
     "model_module_version": "1.5.0",
     "model_name": "ProgressStyleModel",
     "state": {
      "_model_module": "@jupyter-widgets/controls",
      "_model_module_version": "1.5.0",
      "_model_name": "ProgressStyleModel",
      "_view_count": null,
      "_view_module": "@jupyter-widgets/base",
      "_view_module_version": "1.2.0",
      "_view_name": "StyleView",
      "bar_color": null,
      "description_width": ""
     }
    },
    "a995d05936d4407cbb7749b50cff1f67": {
     "model_module": "@jupyter-widgets/controls",
     "model_module_version": "1.5.0",
     "model_name": "HTMLModel",
     "state": {
      "_dom_classes": [],
      "_model_module": "@jupyter-widgets/controls",
      "_model_module_version": "1.5.0",
      "_model_name": "HTMLModel",
      "_view_count": null,
      "_view_module": "@jupyter-widgets/controls",
      "_view_module_version": "1.5.0",
      "_view_name": "HTMLView",
      "description": "",
      "description_tooltip": null,
      "layout": "IPY_MODEL_cdcbfb7a5fdf41d9ae99a3cb2ea716dc",
      "placeholder": "​",
      "style": "IPY_MODEL_84c7e62f524c435aac8a7fadcc9ffd68",
      "value": "100%"
     }
    },
    "b3565aef7aac420eb9d2a74494c35275": {
     "model_module": "@jupyter-widgets/controls",
     "model_module_version": "1.5.0",
     "model_name": "DescriptionStyleModel",
     "state": {
      "_model_module": "@jupyter-widgets/controls",
      "_model_module_version": "1.5.0",
      "_model_name": "DescriptionStyleModel",
      "_view_count": null,
      "_view_module": "@jupyter-widgets/base",
      "_view_module_version": "1.2.0",
      "_view_name": "StyleView",
      "description_width": ""
     }
    },
    "cdcbfb7a5fdf41d9ae99a3cb2ea716dc": {
     "model_module": "@jupyter-widgets/base",
     "model_module_version": "1.2.0",
     "model_name": "LayoutModel",
     "state": {
      "_model_module": "@jupyter-widgets/base",
      "_model_module_version": "1.2.0",
      "_model_name": "LayoutModel",
      "_view_count": null,
      "_view_module": "@jupyter-widgets/base",
      "_view_module_version": "1.2.0",
      "_view_name": "LayoutView",
      "align_content": null,
      "align_items": null,
      "align_self": null,
      "border": null,
      "bottom": null,
      "display": null,
      "flex": null,
      "flex_flow": null,
      "grid_area": null,
      "grid_auto_columns": null,
      "grid_auto_flow": null,
      "grid_auto_rows": null,
      "grid_column": null,
      "grid_gap": null,
      "grid_row": null,
      "grid_template_areas": null,
      "grid_template_columns": null,
      "grid_template_rows": null,
      "height": null,
      "justify_content": null,
      "justify_items": null,
      "left": null,
      "margin": null,
      "max_height": null,
      "max_width": null,
      "min_height": null,
      "min_width": null,
      "object_fit": null,
      "object_position": null,
      "order": null,
      "overflow": null,
      "overflow_x": null,
      "overflow_y": null,
      "padding": null,
      "right": null,
      "top": null,
      "visibility": null,
      "width": null
     }
    },
    "d12e855744184127aecf9007a415ad72": {
     "model_module": "@jupyter-widgets/base",
     "model_module_version": "1.2.0",
     "model_name": "LayoutModel",
     "state": {
      "_model_module": "@jupyter-widgets/base",
      "_model_module_version": "1.2.0",
      "_model_name": "LayoutModel",
      "_view_count": null,
      "_view_module": "@jupyter-widgets/base",
      "_view_module_version": "1.2.0",
      "_view_name": "LayoutView",
      "align_content": null,
      "align_items": null,
      "align_self": null,
      "border": null,
      "bottom": null,
      "display": null,
      "flex": null,
      "flex_flow": null,
      "grid_area": null,
      "grid_auto_columns": null,
      "grid_auto_flow": null,
      "grid_auto_rows": null,
      "grid_column": null,
      "grid_gap": null,
      "grid_row": null,
      "grid_template_areas": null,
      "grid_template_columns": null,
      "grid_template_rows": null,
      "height": null,
      "justify_content": null,
      "justify_items": null,
      "left": null,
      "margin": null,
      "max_height": null,
      "max_width": null,
      "min_height": null,
      "min_width": null,
      "object_fit": null,
      "object_position": null,
      "order": null,
      "overflow": null,
      "overflow_x": null,
      "overflow_y": null,
      "padding": null,
      "right": null,
      "top": null,
      "visibility": null,
      "width": null
     }
    },
    "d3a959b849de409380e68b09020369fe": {
     "model_module": "@jupyter-widgets/base",
     "model_module_version": "1.2.0",
     "model_name": "LayoutModel",
     "state": {
      "_model_module": "@jupyter-widgets/base",
      "_model_module_version": "1.2.0",
      "_model_name": "LayoutModel",
      "_view_count": null,
      "_view_module": "@jupyter-widgets/base",
      "_view_module_version": "1.2.0",
      "_view_name": "LayoutView",
      "align_content": null,
      "align_items": null,
      "align_self": null,
      "border": null,
      "bottom": null,
      "display": null,
      "flex": null,
      "flex_flow": null,
      "grid_area": null,
      "grid_auto_columns": null,
      "grid_auto_flow": null,
      "grid_auto_rows": null,
      "grid_column": null,
      "grid_gap": null,
      "grid_row": null,
      "grid_template_areas": null,
      "grid_template_columns": null,
      "grid_template_rows": null,
      "height": null,
      "justify_content": null,
      "justify_items": null,
      "left": null,
      "margin": null,
      "max_height": null,
      "max_width": null,
      "min_height": null,
      "min_width": null,
      "object_fit": null,
      "object_position": null,
      "order": null,
      "overflow": null,
      "overflow_x": null,
      "overflow_y": null,
      "padding": null,
      "right": null,
      "top": null,
      "visibility": null,
      "width": null
     }
    },
    "f429a862b645462eaf4a2c82b882d692": {
     "model_module": "@jupyter-widgets/controls",
     "model_module_version": "1.5.0",
     "model_name": "FloatProgressModel",
     "state": {
      "_dom_classes": [],
      "_model_module": "@jupyter-widgets/controls",
      "_model_module_version": "1.5.0",
      "_model_name": "FloatProgressModel",
      "_view_count": null,
      "_view_module": "@jupyter-widgets/controls",
      "_view_module_version": "1.5.0",
      "_view_name": "ProgressView",
      "bar_style": "success",
      "description": "",
      "description_tooltip": null,
      "layout": "IPY_MODEL_d3a959b849de409380e68b09020369fe",
      "max": 102530333,
      "min": 0,
      "orientation": "horizontal",
      "style": "IPY_MODEL_922aabd3aa2349d4924719cb9e4ed6d4",
      "value": 102530333
     }
    }
   }
  }
 },
 "nbformat": 4,
 "nbformat_minor": 1
}
